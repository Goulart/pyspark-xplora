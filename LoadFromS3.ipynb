{
 "cells": [
  {
   "cell_type": "code",
   "execution_count": 1,
   "id": "2830eefd-0121-4b3c-98ab-d2c33b65e1cb",
   "metadata": {},
   "outputs": [],
   "source": [
    "from pyspark import SparkConf\n",
    "from pyspark.sql.dataframe import DataFrame\n",
    "from pyspark.sql.types import *\n",
    "from pyspark.sql.functions import explode, split, col, sum, lit\n",
    "from pyspark.sql import SparkSession"
   ]
  },
  {
   "cell_type": "code",
   "execution_count": 6,
   "id": "8fc73356-9183-441b-89b3-7ca6a09030ee",
   "metadata": {},
   "outputs": [],
   "source": [
    "def getS3Session (access_key='lakefs', secret_key='lakefs', ceph_host='endpoint', ceph_port=443):\n",
    "    spark = SparkSession.builder \\\n",
    "        .appName(\"app_name\") \\\n",
    "        .getOrCreate()\n",
    "    spark._jsc.hadoopConfiguration().set(\"fs.s3a.access.key\", access_key)\n",
    "    spark._jsc.hadoopConfiguration().set(\"fs.s3a.secret.key\", secret_key)\n",
    "    #spark._jsc.hadoopConfiguration().set(\"fs.s3a.session.token\", \"\")\n",
    "    spark._jsc.hadoopConfiguration().set(\"fs.s3a.impl\",\"org.apache.hadoop.fs.s3a.S3AFileSystem\")\n",
    "    spark._jsc.hadoopConfiguration().set(\"com.amazonaws.services.s3.enableV4\", \"true\")\n",
    "    spark._jsc.hadoopConfiguration().set(\"fs.s3a.aws.credentials.provider\",\"org.apache.hadoop.fs.s3a.SimpleAWSCredentialsProvider\")\n",
    "    #spark._jsc.hadoopConfiguration().set(\"fs.s3a.aws.credentials.provider\",\"org.apache.hadoop.fs.s3a.TemporaryAWSCredentialsProvider\")\n",
    "    spark._jsc.hadoopConfiguration().set(\"fs.s3a.endpoint\", ceph_host)\n",
    "    spark._jsc.hadoopConfiguration().set(\"fs.s3a.path.style.access\", \"true\")\n",
    "    return spark"
   ]
  },
  {
   "cell_type": "code",
   "execution_count": 7,
   "id": "f89d1d44-8a8d-4b8d-a6c4-429ae406bceb",
   "metadata": {},
   "outputs": [
    {
     "name": "stdout",
     "output_type": "stream",
     "text": [
      "+------------+-------------+------------------+------------------+------------------+------------------+---------+--------+--------+------------------+\n",
      "|          bs|      iodepth|           bw_mean|            bw_min|            bw_max|            bw_dev|iops_mean|iops_min|iops_max|       iops_stddev|\n",
      "+------------+-------------+------------------+------------------+------------------+------------------+---------+--------+--------+------------------+\n",
      "|0xf6c762505c| 195035318375| 589604.2258611814| 82537.06629591854|  66310.9234002498| 945.0269019000774| 310202.0|  584624|   62881| 315.7031103618132|\n",
      "|0xc44640f5e9| 783525496224|109346.70062874281| 560608.3284556706| 730399.9118590021| 615.3322330775512| 291703.0|  634439|   63721|  684.768916778562|\n",
      "|0x75f87c68e5| 661659213340|  650226.047027243|1014028.1056788351|  792205.491263445| 864.5815486096335| 373873.0|  212455|  646345|  693.526209532466|\n",
      "|0x867791db4e| 697369883188|454500.33719573624| 176212.1333213721| 599515.7229642089|  890.865177214412| 648677.0|  285261|  101347|339.95390841844096|\n",
      "|0x365d98b05d| 982505242366|  82493.3745283034|249788.14444710466| 896176.7532764699|53.828946602183805| 224530.0|  569955|  941405|204.22042271184318|\n",
      "|0x4fa8111d05| 620487086140| 426982.1449031021| 65632.64072583558|154753.96235607914| 920.9205222888819| 147731.0|  606606|  627261|187.59555717263754|\n",
      "| 0xc131346db| 149923258792|1026420.0039094684| 550480.9719281414| 580989.5111599253| 48.78674582075564| 182347.0|  240880|  587881| 908.2352869844095|\n",
      "|0xcb12c7ddef| 654476569198| 559628.5663477278| 536294.8448421615| 62452.48849999765| 270.1908141269282| 182342.0| 1029382|   41917| 564.5727528988468|\n",
      "|0x1c9b3f9b7e| 660965153148| 82774.13185916899|1002076.9845493733| 954680.2312031942| 624.2103333197018| 699174.0|  782698|  428771|1022.7439619363028|\n",
      "|0x3445a3b28c|  18162059044| 919306.1506752226|310680.52609287866|   707776.43065086|162.93576987268216| 290890.0|  738756|  713428| 741.0091272926193|\n",
      "|0x680bd23c7e| 809967600081|135636.31469653046| 766392.3269676648| 492376.2416330257| 99.41855089822536| 198304.0|  292911| 1014176| 938.3903592848086|\n",
      "|0x19ee04a53b| 183297372002| 980733.6198142562| 823213.1246973164|250024.72165652085| 268.5564594912837| 873956.0|  815662|  243225| 49.88851811468771|\n",
      "|0x5dcdb5a15e| 500883168662| 938866.0816966165|394467.49087801867| 619361.9210035582|292.95334154299724| 745838.0|  243832|  637571|  297.615768867234|\n",
      "|0xa22a1e4eb4| 514344323765|  367164.787536916|54244.806634609704|325769.48743179557|  591.104796707247| 122584.0|  126900|  807892|48.447740461895705|\n",
      "|0x37cc727a63|1065021192847| 210898.4997856574|288826.06038545014|1041221.3605166633|448.71000741030025| 439483.0|  623849|  577879| 328.4273026045845|\n",
      "|0xc5b8b93945|1074811062336| 949241.2897625387|146890.20993867598| 65534.25663590338| 273.9324580971612| 261102.0|  927422|  837120| 565.6649361287011|\n",
      "| 0xa5fe0e55c| 202111948815| 412819.2369916325| 170903.4774273776| 620474.3475287217|354.63147929023023| 419578.0|  795156|  204107|165.77171019026548|\n",
      "|0x4056e06c89| 776837116554| 959489.2877036466| 49588.97335801495|212681.32459353388|1019.4575828954238| 798053.0|  668950|  113197|190.68952318786864|\n",
      "|0x35930b22b2| 817932732287| 640949.6450169559| 676001.9795856624|200031.84334587574|1022.2694570920592| 755688.0|  619447|   20096| 817.1845040375135|\n",
      "|0xc97f2c6dcb| 198959653050| 768464.8205351956| 794265.9892782393|15317.053319660947|1020.5554637408108| 867709.0|  749709|  647414|165.46240193656286|\n",
      "+------------+-------------+------------------+------------------+------------------+------------------+---------+--------+--------+------------------+\n",
      "only showing top 20 rows\n",
      "\n"
     ]
    }
   ],
   "source": [
    "custom_schema = StructType([\n",
    "                StructField(\"bs\", StringType(), True),\n",
    "                StructField(\"iodepth\", StringType(), True),\n",
    "                StructField(\"bw_mean\", DoubleType(), True),\n",
    "                StructField(\"bw_min\", DoubleType(), True),\n",
    "                StructField(\"bw_max\", DoubleType(), True),\n",
    "                StructField(\"bw_dev\", DoubleType(), True),\n",
    "                StructField(\"iops_mean\", DoubleType(), True),\n",
    "                StructField(\"iops_min\", IntegerType(), True),\n",
    "                StructField(\"iops_max\", IntegerType(), True),\n",
    "                StructField(\"iops_stddev\", DoubleType(), True)])\n",
    "spark = getS3Session(ceph_host='some_server')\n",
    "df = spark.read.csv('s3a://lakefs/moderatelyBig.csv', header=True, schema=custom_schema)\n",
    "df.show()"
   ]
  },
  {
   "cell_type": "code",
   "execution_count": 8,
   "id": "6cd6ec64-1cbd-4c30-a5a2-3cda8ea21af9",
   "metadata": {},
   "outputs": [
    {
     "name": "stdout",
     "output_type": "stream",
     "text": [
      "2022-03-10 11:47  s3://lakefs\n"
     ]
    }
   ],
   "source": [
    "%%bash\n",
    "s3cmd -s --access_key=lakefs --secret_key=lakefs --host=some_server:443 --no-check-certificate ls"
   ]
  },
  {
   "cell_type": "code",
   "execution_count": null,
   "id": "66d7d4e5-eb6f-4ef0-88bc-b0879e264125",
   "metadata": {},
   "outputs": [],
   "source": []
  }
 ],
 "metadata": {
  "kernelspec": {
   "display_name": "pyspark",
   "language": "python",
   "name": "pyspark"
  },
  "language_info": {
   "codemirror_mode": {
    "name": "ipython",
    "version": 3
   },
   "file_extension": ".py",
   "mimetype": "text/x-python",
   "name": "python",
   "nbconvert_exporter": "python",
   "pygments_lexer": "ipython3",
   "version": "3.7.3"
  }
 },
 "nbformat": 4,
 "nbformat_minor": 5
}
