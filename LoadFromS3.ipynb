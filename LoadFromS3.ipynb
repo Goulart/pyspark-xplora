{
 "cells": [
  {
   "cell_type": "code",
   "execution_count": null,
   "id": "2830eefd-0121-4b3c-98ab-d2c33b65e1cb",
   "metadata": {},
   "outputs": [],
   "source": [
    "from pyspark import SparkConf\n",
    "from pyspark.sql.dataframe import DataFrame\n",
    "from pyspark.sql.types import *\n",
    "from pyspark.sql.functions import explode, split, col, sum, lit\n",
    "from pyspark.sql import SparkSession"
   ]
  },
  {
   "cell_type": "code",
   "execution_count": null,
   "id": "67d7f98e-610f-4b73-953d-a449e3e7184d",
   "metadata": {},
   "outputs": [],
   "source": [
    "spark = SparkSession.builder \\\n",
    "        .appName(\"app_name\") \\\n",
    "        .getOrCreate()"
   ]
  },
  {
   "cell_type": "code",
   "execution_count": null,
   "id": "dcbbbc86-d136-4502-b144-f206bce525fd",
   "metadata": {},
   "outputs": [],
   "source": [
    "spark._jsc.hadoopConfiguration().set(\"fs.s3a.access.key\", \"lakefs\")\n",
    "spark._jsc.hadoopConfiguration().set(\"fs.s3a.secret.key\", \"lakefs\")\n",
    "#spark._jsc.hadoopConfiguration().set(\"fs.s3a.session.token\", \"\")\n",
    "spark._jsc.hadoopConfiguration().set(\"fs.s3a.impl\",\"org.apache.hadoop.fs.s3a.S3AFileSystem\")\n",
    "spark._jsc.hadoopConfiguration().set(\"com.amazonaws.services.s3.enableV4\", \"true\")\n",
    "spark._jsc.hadoopConfiguration().set(\"fs.s3a.aws.credentials.provider\",\"org.apache.hadoop.fs.s3a.SimpleAWSCredentialsProvider\")\n",
    "#spark._jsc.hadoopConfiguration().set(\"fs.s3a.aws.credentials.provider\",\"org.apache.hadoop.fs.s3a.TemporaryAWSCredentialsProvider\")\n",
    "spark._jsc.hadoopConfiguration().set(\"fs.s3a.endpoint\", \"endpoint\")\n",
    "spark._jsc.hadoopConfiguration().set(\"fs.s3a.path.style.access\", \"true\")\n",
    "#df = spark.read.csv('s3a://lakefs/localM2-randread.csv', header=True, schema=custom_schema)"
   ]
  },
  {
   "cell_type": "code",
   "execution_count": null,
   "id": "f73eb14e-a885-4a5b-b401-074b46b05f7c",
   "metadata": {},
   "outputs": [],
   "source": [
    "custom_schema = StructType([\n",
    "                StructField(\"bs\", StringType(), True),\n",
    "                StructField(\"iodepth\", StringType(), True),\n",
    "                StructField(\"bw_mean\", DoubleType(), True),\n",
    "                StructField(\"bw_min\", DoubleType(), True),\n",
    "                StructField(\"bw_max\", DoubleType(), True),\n",
    "                StructField(\"bw_dev\", DoubleType(), True),\n",
    "                StructField(\"iops_mean\", IntegerType(), True),\n",
    "                StructField(\"iops_min\", IntegerType(), True),\n",
    "                StructField(\"iops_max\", IntegerType(), True),\n",
    "                StructField(\"iops_stddev\", DoubleType(), True)])"
   ]
  },
  {
   "cell_type": "code",
   "execution_count": null,
   "id": "f89d1d44-8a8d-4b8d-a6c4-429ae406bceb",
   "metadata": {},
   "outputs": [],
   "source": [
    "df = spark.read.csv('s3a://lakefs/moderatelyBig.csv', header=True, schema=custom_schema)"
   ]
  },
  {
   "cell_type": "code",
   "execution_count": null,
   "id": "34ef0a82-bad6-4503-9c68-11be95cc14b1",
   "metadata": {},
   "outputs": [],
   "source": [
    "df.show()"
   ]
  },
  {
   "cell_type": "code",
   "execution_count": null,
   "id": "6cd6ec64-1cbd-4c30-a5a2-3cda8ea21af9",
   "metadata": {},
   "outputs": [],
   "source": [
    "%%bash\n",
    "s3cmd -s --access_key=lakefs --secret_key=lakefs --host=endpoint:443 --no-check-certificate la"
   ]
  },
  {
   "cell_type": "code",
   "execution_count": null,
   "id": "66d7d4e5-eb6f-4ef0-88bc-b0879e264125",
   "metadata": {},
   "outputs": [],
   "source": []
  }
 ],
 "metadata": {
  "kernelspec": {
   "display_name": "pyspark",
   "language": "python",
   "name": "pyspark"
  },
  "language_info": {
   "codemirror_mode": {
    "name": "ipython",
    "version": 3
   },
   "file_extension": ".py",
   "mimetype": "text/x-python",
   "name": "python",
   "nbconvert_exporter": "python",
   "pygments_lexer": "ipython3",
   "version": "3.7.3"
  }
 },
 "nbformat": 4,
 "nbformat_minor": 5
}
